{
 "cells": [
  {
   "cell_type": "code",
   "execution_count": 29,
   "metadata": {
    "collapsed": false
   },
   "outputs": [],
   "source": [
    "import matplotlib.pyplot as plt\n",
    "from matplotlib.pyplot import savefig\n",
    "from signal_file import signal__\n",
    "from datautils import load_wav_file, write_wav_file\n",
    "\n",
    "# cell 1\n",
    "reconstructed = 'recpnstructed '\n",
    "local_path = '/home/naufal/Documents/Spring17/DSP/Assignments/Assignment_2/'\n",
    "recorded_wav_folder = 'WAV_Files/recorded/'\n",
    "reconstructed_wav_folder = 'WAV_Files/reconstructed/'\n",
    "recorded_wav_file = 'ahmednofal_8khz_32bitfloatPCM'\n",
    "reconstructed_wav_file = recorded_wav_file + reconstructed\n",
    "save_figures_path = local_path + 'Figures2/'\n",
    "real_part = save_figures_path + 'real_part'\n",
    "imag_part = save_figures_path + 'imag_part'\n",
    "phase_part = save_figures_path + 'phase_part'\n",
    "magnitude_part = save_figures_path + 'magnitude_part'\n",
    "discrete_signal_file_path = save_figures_path + 'discrete_signal'\n",
    "reconstructed_signal_file_path = save_figures_path + 'reconstructed_signal_256'\n",
    "file_format = '.pdf'\n",
    "audio_file_format = '.wav'\n",
    "discrete_signal = 'Discrete Signal'\n",
    "\n",
    "# number of samples for the signal\n",
    "samplesNum = 300\n",
    "# DftPointsNum = 256\n",
    "samplingRate = 2\n"
   ]
  },
  {
   "cell_type": "code",
   "execution_count": 30,
   "metadata": {
    "collapsed": false,
    "scrolled": true
   },
   "outputs": [
    {
     "name": "stdout",
     "output_type": "stream",
     "text": [
      "\t\tTesting the wav file recorded\n",
      "\n",
      "sampling rate%s DftPointsNum%s Samples Num%s 17000 7988 7988\n",
      "sampling rate%s DftPointsNum%s Samples Num%s 2 256 300\n"
     ]
    },
    {
     "name": "stderr",
     "output_type": "stream",
     "text": [
      "/home/naufal/anaconda3/lib/python3.6/site-packages/scipy/io/wavfile.py:267: WavFileWarning: Chunk (non-data) not understood, skipping it.\n",
      "  WavFileWarning)\n"
     ]
    }
   ],
   "source": [
    "\n",
    "print('\\t\\tTesting the wav file recorded\\n')\n",
    "rate, data = load_wav_file(local_path + recorded_wav_folder + recorded_wav_file + audio_file_format)\n",
    "audio_signal_samples_num = data.shape[0]\n",
    "audio_signal = signal__()\n",
    "audio_signal.generated_signal = True\n",
    "audio_signal.continuousSignal = data\n",
    "audio_signal.samplingRate = rate\n",
    "audio_signal.samplesNum = audio_signal_samples_num\n",
    "wav_file_dft_data,wav_file_dft_idx=audio_signal.calculate_dft(samplingRate=17000,  DftPointsNum=audio_signal_samples_num,\n",
    "                           samplesNum=audio_signal_samples_num)\n",
    "wav_file_reconstructed_data, wav_file_samples_idx = audio_signal.calculate_idft()\n",
    "\n"
   ]
  },
  {
   "cell_type": "code",
   "execution_count": 31,
   "metadata": {
    "collapsed": false,
    "scrolled": true
   },
   "outputs": [
    {
     "name": "stdout",
     "output_type": "stream",
     "text": [
      "[-0.00013581 -0.00019043 -0.00022456 ...,  0.00356019  0.00073046\n",
      " -0.00088815]\n",
      "[ 0.-0.j  0.-0.j  0.-0.j ...,  0.-0.j  0.-0.j  0.-0.j]\n",
      "7988\n",
      "7988\n",
      "[ 0.+0.j  0.+0.j  0.+0.j ...,  0.+0.j  0.+0.j  0.+0.j]\n",
      "7988\n",
      "[   0    1    2 ..., 7985 7986 7987]\n"
     ]
    }
   ],
   "source": [
    "print(data)\n",
    "print(wav_file_dft_data)\n",
    "print(wav_file_dft_data.shape[0])\n",
    "print(wav_file_reconstructed_data.shape[0])\n",
    "print(wav_file_reconstructed_data)\n",
    "\n",
    "print(wav_file_samples_idx.shape[0])\n",
    "print(wav_file_samples_idx)"
   ]
  },
  {
   "cell_type": "code",
   "execution_count": 22,
   "metadata": {
    "collapsed": false
   },
   "outputs": [],
   "source": [
    "write_wav_file(filename=local_path + reconstructed_wav_folder + reconstructed_wav_file + audio_file_format, rate=rate, data=wav_file_reconstructed_data.real)\n"
   ]
  },
  {
   "cell_type": "code",
   "execution_count": 23,
   "metadata": {
    "collapsed": true
   },
   "outputs": [],
   "source": [
    "rate2, data2 = load_wav_file('/home/naufal/Documents/Spring17/DSP/Assignments/Assignment_2/WAV_Files/reconstructed/ahmednofal_8khz_32bitfloatPCMrecpnstructed .wav')"
   ]
  },
  {
   "cell_type": "code",
   "execution_count": 24,
   "metadata": {
    "collapsed": false
   },
   "outputs": [
    {
     "name": "stdout",
     "output_type": "stream",
     "text": [
      "[ 0.  0.  0. ...,  0.  0.  0.]\n"
     ]
    }
   ],
   "source": [
    "print(data2)"
   ]
  },
  {
   "cell_type": "code",
   "execution_count": 13,
   "metadata": {
    "collapsed": false
   },
   "outputs": [
    {
     "name": "stdout",
     "output_type": "stream",
     "text": [
      "8000\n"
     ]
    }
   ],
   "source": [
    "print(rate2)"
   ]
  },
  {
   "cell_type": "code",
   "execution_count": null,
   "metadata": {
    "collapsed": true
   },
   "outputs": [],
   "source": []
  }
 ],
 "metadata": {
  "kernelspec": {
   "display_name": "Python 3",
   "language": "python",
   "name": "python3"
  },
  "language_info": {
   "codemirror_mode": {
    "name": "ipython",
    "version": 3
   },
   "file_extension": ".py",
   "mimetype": "text/x-python",
   "name": "python",
   "nbconvert_exporter": "python",
   "pygments_lexer": "ipython3",
   "version": "3.6.0"
  }
 },
 "nbformat": 4,
 "nbformat_minor": 2
}
